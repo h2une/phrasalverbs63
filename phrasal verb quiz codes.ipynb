{
 "cells": [
  {
   "cell_type": "code",
   "execution_count": 1,
   "id": "0b11868c-c440-409f-a12f-179014744db5",
   "metadata": {},
   "outputs": [
    {
     "name": "stdout",
     "output_type": "stream",
     "text": [
      "2.0.3\n"
     ]
    }
   ],
   "source": [
    "import pandas as pd\n",
    "print(pd.__version__)"
   ]
  },
  {
   "cell_type": "code",
   "execution_count": null,
   "id": "ef569a30-b182-4d25-90fd-09f559603c9a",
   "metadata": {},
   "outputs": [],
   "source": [
    "import pandas as pd\n",
    "\n",
    "file_path = 'phrasal_verbs_list63.xlsx'\n",
    "\n",
    "df = pd.read_excel(file_path)\n",
    "\n",
    "print(df)"
   ]
  },
  {
   "cell_type": "code",
   "execution_count": 1,
   "id": "d6c9f1b2-bf82-4b71-be85-4d7f5b6519af",
   "metadata": {},
   "outputs": [
    {
     "name": "stdout",
     "output_type": "stream",
     "text": [
      "   Phrasal Verb       Meaning  \\\n",
      "0       Act out      무엇을 연기하다   \n",
      "1        Add up  말이 되다 이치에 맞다   \n",
      "2    Ask around  여러 사람에게 물어보다   \n",
      "3       Ask out      데이트 신청하다   \n",
      "4       Back up     후진하다 지지하다   \n",
      "..          ...           ...   \n",
      "58     Wear off      효과가 사라지다   \n",
      "59     Work out          운동하다   \n",
      "60     Work out      문제를 해결하다   \n",
      "61      Wrap up         마무리하다   \n",
      "62     Zone out        멍하니 있다   \n",
      "\n",
      "                                   Example in English  \\\n",
      "0   The students acted out a scene from Romeo and ...   \n",
      "1                      Her story just doesn’t add up.   \n",
      "2             She asked around to find the lost keys.   \n",
      "3                                   He asked her out.   \n",
      "4                           I had to back up the car.   \n",
      "..                                                ...   \n",
      "58  The medication's effects will wear off after a...   \n",
      "59          I work out at the gym three times a week.   \n",
      "60           They need to work out their differences.   \n",
      "61       We should wrap up this meeting before lunch.   \n",
      "62  Sometimes I just zone out after a long day of ...   \n",
      "\n",
      "                    Example in Korean  \\\n",
      "0          학생들이 로미오와 줄리엣의 한 장면을 연기했다.   \n",
      "1                  그녀의 이야기는 말이 안 된다.,   \n",
      "2   그녀는 잃어버린 열쇠를 찾기 위해 여러 사람에게 물어보았다.   \n",
      "3                 그는 그녀에게 데이트 신청을 했다.   \n",
      "4                      나는 차를 후진해야 했다.   \n",
      "..                                ...   \n",
      "58               약효가 몇 시간 후에 사라질 것이다.   \n",
      "59            나는 일주일에 세 번 헬스장에서 운동한다.   \n",
      "60               그들은 그들의 차이를 해결해야 한다.   \n",
      "61          우리는 점심 전에 이 회의를 마무리해야 한다.   \n",
      "62          가끔 나는 힘든 하루 끝에 그냥 멍하니 있다.   \n",
      "\n",
      "                                        Quiz Question        Answer  \n",
      "0   The drama club will _____ a famous play at sch...     act out\\n  \n",
      "1      Something doesn’t _____ about his explanation.      add up\\n  \n",
      "2    If you're lost, you should _____ for directions.  ask around\\n  \n",
      "3      He finally got the courage to _____ his crush.     ask out\\n  \n",
      "4                 Can you _____ your files regularly?     back up\\n  \n",
      "..                                                ...           ...  \n",
      "58    Does the numbness _____ soon after the dentist?    wear off\\n  \n",
      "59                 How often do you _____ at the gym?    work out\\n  \n",
      "60    How did you _____ the issue with your roommate?    work out\\n  \n",
      "61          Can you _____ the gifts before the party?     wrap up\\n  \n",
      "62          Do you ever _____ during boring lectures?    zone out\\n  \n",
      "\n",
      "[63 rows x 6 columns]\n"
     ]
    }
   ],
   "source": [
    "import pandas as pd\n",
    "\n",
    "file_path = 'phrasal_verbs_list63.xlsx'\n",
    "\n",
    "df = pd.read_excel(file_path)\n",
    "\n",
    "print(df)"
   ]
  },
  {
   "cell_type": "code",
   "execution_count": 13,
   "id": "bf6057ed-927f-4b46-af23-a9020f7b1094",
   "metadata": {},
   "outputs": [
    {
     "ename": "SyntaxError",
     "evalue": "unterminated string literal (detected at line 4) (3383451640.py, line 4)",
     "output_type": "error",
     "traceback": [
      "\u001b[0;36m  Cell \u001b[0;32mIn[13], line 4\u001b[0;36m\u001b[0m\n\u001b[0;31m    df = pd.read_excel('df = pd.read_excel('phrasal_verbs_list63.xlsx')\u001b[0m\n\u001b[0m                                                                     ^\u001b[0m\n\u001b[0;31mSyntaxError\u001b[0m\u001b[0;31m:\u001b[0m unterminated string literal (detected at line 4)\n"
     ]
    }
   ],
   "source": [
    "import pandas as pd\n",
    "\n",
    "# 엑셀 파일 로드\n",
    "df = pd.read_excel('df = pd.read_excel('phrasal_verbs_list63.xlsx')\n",
    "\n",
    "# 학습할 phrasal verb, 뜻, 영한 예문을 사용자에게 제시하는 함수\n",
    "def display_learning_material(dataframe):\n",
    "    for index, row in dataframe.iterrows():\n",
    "        print(f\"Phrasal Verb: {row['Phrasal Verb']}\")\n",
    "        print(f\"Meaning: {row['Meaning']}\")\n",
    "        print(f\"Example in English: {row['Example in English']}\")\n",
    "        print(f\"Example in Korean: {row['Example in Korean']}\\n\")\n",
    "        \n",
    "        # 사용자 입력을 기다린 후 계속 진행\n",
    "        input(\"Press Enter to continue to the next phrasal verb...\\n\")\n",
    "\n",
    "# 학습 자료 제시 함수 호출\n",
    "display_learning_material(df)\n"
   ]
  },
  {
   "cell_type": "code",
   "execution_count": 15,
   "id": "61741bdc-83b7-4d07-9b51-7e8886c2e8c7",
   "metadata": {},
   "outputs": [
    {
     "name": "stdout",
     "output_type": "stream",
     "text": [
      "  Phrasal Verb       Meaning  \\\n",
      "0      Act out      무엇을 연기하다   \n",
      "1       Add up  말이 되다 이치에 맞다   \n",
      "2   Ask around  여러 사람에게 물어보다   \n",
      "3      Ask out      데이트 신청하다   \n",
      "4      Back up     후진하다 지지하다   \n",
      "\n",
      "                                  Example in English  \\\n",
      "0  The students acted out a scene from Romeo and ...   \n",
      "1                     Her story just doesn’t add up.   \n",
      "2            She asked around to find the lost keys.   \n",
      "3                                  He asked her out.   \n",
      "4                          I had to back up the car.   \n",
      "\n",
      "                   Example in Korean  \n",
      "0         학생들이 로미오와 줄리엣의 한 장면을 연기했다.  \n",
      "1                 그녀의 이야기는 말이 안 된다.,  \n",
      "2  그녀는 잃어버린 열쇠를 찾기 위해 여러 사람에게 물어보았다.  \n",
      "3                그는 그녀에게 데이트 신청을 했다.  \n",
      "4                     나는 차를 후진해야 했다.  \n"
     ]
    }
   ],
   "source": [
    "import pandas as pd\n",
    "\n",
    "# 파일 경로 설정\n",
    "file_path = 'phrasal_verbs_list63.xlsx'\n",
    "\n",
    "# 엑셀 파일 로드\n",
    "df = pd.read_excel(file_path)\n",
    "\n",
    "# 'Phrasal Verb', 'Meaning', 'Example in English', 'Example in Korean' 열을 출력\n",
    "print(df[['Phrasal Verb', 'Meaning', 'Example in English', 'Example in Korean']].head())\n"
   ]
  },
  {
   "cell_type": "code",
   "execution_count": null,
   "id": "35af6556-4b8d-44de-905c-6ea828164aab",
   "metadata": {},
   "outputs": [
    {
     "name": "stdout",
     "output_type": "stream",
     "text": [
      "Phrasal Verb: Act out\n",
      "Meaning: 무엇을 연기하다\n",
      "Example in English: The students acted out a scene from Romeo and Juliet.\n",
      "Example in Korean: 학생들이 로미오와 줄리엣의 한 장면을 연기했다.\n",
      "\n"
     ]
    },
    {
     "name": "stdin",
     "output_type": "stream",
     "text": [
      "Press Enter to continue to the next phrasal verb...\n",
      " Act out\n"
     ]
    },
    {
     "name": "stdout",
     "output_type": "stream",
     "text": [
      "Phrasal Verb: Add up\n",
      "Meaning: 말이 되다 이치에 맞다\n",
      "Example in English:  Her story just doesn’t add up.\n",
      "Example in Korean: 그녀의 이야기는 말이 안 된다.,\n",
      "\n"
     ]
    },
    {
     "name": "stdin",
     "output_type": "stream",
     "text": [
      "Press Enter to continue to the next phrasal verb...\n",
      " Add up\n"
     ]
    },
    {
     "name": "stdout",
     "output_type": "stream",
     "text": [
      "Phrasal Verb: Ask around\n",
      "Meaning: 여러 사람에게 물어보다\n",
      "Example in English: She asked around to find the lost keys.\n",
      "Example in Korean: 그녀는 잃어버린 열쇠를 찾기 위해 여러 사람에게 물어보았다.\n",
      "\n"
     ]
    },
    {
     "name": "stdin",
     "output_type": "stream",
     "text": [
      "Press Enter to continue to the next phrasal verb...\n",
      " Ask around\n"
     ]
    },
    {
     "name": "stdout",
     "output_type": "stream",
     "text": [
      "Phrasal Verb: Ask out\n",
      "Meaning: 데이트 신청하다\n",
      "Example in English: He asked her out.\n",
      "Example in Korean: 그는 그녀에게 데이트 신청을 했다.\n",
      "\n"
     ]
    },
    {
     "name": "stdin",
     "output_type": "stream",
     "text": [
      "Press Enter to continue to the next phrasal verb...\n",
      " ask out\n"
     ]
    },
    {
     "name": "stdout",
     "output_type": "stream",
     "text": [
      "Phrasal Verb: Back up\n",
      "Meaning: 후진하다 지지하다\n",
      "Example in English: I had to back up the car.\n",
      "Example in Korean: 나는 차를 후진해야 했다.\n",
      "\n"
     ]
    },
    {
     "name": "stdin",
     "output_type": "stream",
     "text": [
      "Press Enter to continue to the next phrasal verb...\n",
      " back up\n"
     ]
    },
    {
     "name": "stdout",
     "output_type": "stream",
     "text": [
      "Phrasal Verb: Blow up\n",
      "Meaning: 폭발하다 화내다\n",
      "Example in English: He blew up when he found out.\n",
      "Example in Korean: 그가 알게 되었을 때 그는 화를 냈다.\n",
      "\n"
     ]
    },
    {
     "name": "stdin",
     "output_type": "stream",
     "text": [
      "Press Enter to continue to the next phrasal verb...\n",
      " blow up\n"
     ]
    },
    {
     "name": "stdout",
     "output_type": "stream",
     "text": [
      "Phrasal Verb: Break down\n",
      "Meaning: 고장나다\n",
      "Example in English: The car broke down on the highway.\n",
      "Example in Korean: 그 차는 고속도로에서 고장 났다.,\n",
      "\n"
     ]
    },
    {
     "name": "stdin",
     "output_type": "stream",
     "text": [
      "Press Enter to continue to the next phrasal verb...\n",
      " break up\n"
     ]
    },
    {
     "name": "stdout",
     "output_type": "stream",
     "text": [
      "Phrasal Verb: Bring up\n",
      "Meaning: 언급하다\n",
      "Example in English: She brought up budget cuts.\n",
      "Example in Korean: 그녀는 예산 삭감에 대해 언급했다.\n",
      "\n"
     ]
    },
    {
     "name": "stdin",
     "output_type": "stream",
     "text": [
      "Press Enter to continue to the next phrasal verb...\n",
      " bring up\n"
     ]
    },
    {
     "name": "stdout",
     "output_type": "stream",
     "text": [
      "Phrasal Verb: Brush up on\n",
      "Meaning: 복습하다 연습하다\n",
      "Example in English: Brush up on Spanish before the trip.\n",
      "Example in Korean: 여행 전에 스페인어를 복습하다.\n",
      "\n"
     ]
    },
    {
     "name": "stdin",
     "output_type": "stream",
     "text": [
      "Press Enter to continue to the next phrasal verb...\n",
      " brush up on\n"
     ]
    },
    {
     "name": "stdout",
     "output_type": "stream",
     "text": [
      "Phrasal Verb: Call off\n",
      "Meaning: 취소하다\n",
      "Example in English: Call off the picnic due to rain.\n",
      "Example in Korean: 비 때문에 소풍을 취소하다.\n",
      "\n"
     ]
    },
    {
     "name": "stdin",
     "output_type": "stream",
     "text": [
      "Press Enter to continue to the next phrasal verb...\n",
      " call off\n"
     ]
    },
    {
     "name": "stdout",
     "output_type": "stream",
     "text": [
      "Phrasal Verb: Carry on\n",
      "Meaning: 계속하다\n",
      "Example in English: They decided to carry on with the meeting despite the noise.\n",
      "Example in Korean: 그들은 소음에도 불구하고 회의를 계속하기로 결정했다.\n",
      "\n"
     ]
    },
    {
     "name": "stdin",
     "output_type": "stream",
     "text": [
      "Press Enter to continue to the next phrasal verb...\n",
      " carry on\n"
     ]
    },
    {
     "name": "stdout",
     "output_type": "stream",
     "text": [
      "Phrasal Verb: Check in\n",
      "Meaning: 체크인하다\n",
      "Example in English: I need to check in at the airport at least two hours before my flight.\n",
      "Example in Korean: 나는 내 비행기 출발 최소 두 시간 전에 공항에 체크인해야 한다.\n",
      "\n"
     ]
    },
    {
     "name": "stdin",
     "output_type": "stream",
     "text": [
      "Press Enter to continue to the next phrasal verb...\n",
      " check in\n"
     ]
    },
    {
     "name": "stdout",
     "output_type": "stream",
     "text": [
      "Phrasal Verb: Check out\n",
      "Meaning: 체크아웃하다\n",
      "Example in English: You must check out of the hotel room by 11 AM.\n",
      "Example in Korean: 당신은 오전 11시까지 호텔 방에서 체크아웃해야 합니다.\n",
      "\n"
     ]
    },
    {
     "name": "stdin",
     "output_type": "stream",
     "text": [
      "Press Enter to continue to the next phrasal verb...\n",
      " check out\n"
     ]
    },
    {
     "name": "stdout",
     "output_type": "stream",
     "text": [
      "Phrasal Verb: Cheer on\n",
      "Meaning: 응원하다\n",
      "Example in English: The crowd cheered on the runners as they neared the finish line.\n",
      "Example in Korean: 관중들은 주자들이 결승선에 다가감에 따라 그들을 응원했다.\n",
      "\n"
     ]
    },
    {
     "name": "stdin",
     "output_type": "stream",
     "text": [
      "Press Enter to continue to the next phrasal verb...\n",
      " cheer on\n"
     ]
    },
    {
     "name": "stdout",
     "output_type": "stream",
     "text": [
      "Phrasal Verb: Chip in\n",
      "Meaning: 기부하다\n",
      "Example in English: Everyone chipped in to help pay for the team's new uniforms.\n",
      "Example in Korean: 모두가 팀의 새 유니폼을 위해 돈을 기부했다.\n",
      "\n"
     ]
    },
    {
     "name": "stdin",
     "output_type": "stream",
     "text": [
      "Press Enter to continue to the next phrasal verb...\n",
      " chip in\n"
     ]
    },
    {
     "name": "stdout",
     "output_type": "stream",
     "text": [
      "Phrasal Verb: Clean up\n",
      "Meaning: 청소하다\n",
      "Example in English: We need to clean up the park before the festival starts.\n",
      "Example in Korean: 우리는 축제가 시작되기 전에 공원을 청소해야 한다.\n",
      "\n"
     ]
    },
    {
     "name": "stdin",
     "output_type": "stream",
     "text": [
      "Press Enter to continue to the next phrasal verb...\n",
      " clean up\n"
     ]
    },
    {
     "name": "stdout",
     "output_type": "stream",
     "text": [
      "Phrasal Verb: Come along\n",
      "Meaning: 함께 가다\n",
      "Example in English: Would you like to come along to the movies tonight?\n",
      "Example in Korean: 오늘 밤 영화 보러 같이 갈래요?\n",
      "\n"
     ]
    }
   ],
   "source": [
    "import pandas as pd\n",
    "\n",
    "# 엑셀 파일 로드\n",
    "df = pd.read_excel('phrasal_verbs_list63.xlsx')\n",
    "\n",
    "# 학습할 phrasal verb, 뜻, 영한 예문을 한 개씩 제시하는 함수\n",
    "def display_one_by_one(dataframe):\n",
    "    for index, row in dataframe.iterrows():\n",
    "        print(f\"Phrasal Verb: {row['Phrasal Verb']}\")\n",
    "        print(f\"Meaning: {row['Meaning']}\")\n",
    "        print(f\"Example in English: {row['Example in English']}\")\n",
    "        print(f\"Example in Korean: {row['Example in Korean']}\\n\")\n",
    "        \n",
    "        # 사용자가 Enter를 누를 때까지 기다림\n",
    "        input(\"Press Enter to continue to the next phrasal verb...\\n\")\n",
    "\n",
    "# 함수 호출\n",
    "display_one_by_one(df)"
   ]
  },
  {
   "cell_type": "code",
   "execution_count": null,
   "id": "5eaf68d9-3081-4613-a136-63b0c01e8f57",
   "metadata": {},
   "outputs": [],
   "source": [
    "# pandas로 데이터를 로드하고, 사용자에게 하나씩 phrasal verb를 보여주고,\n",
    "# 10개를 학습한 후에 해당 phrasal verbs에 대한 퀴즈를 제공하는 코드\n",
    "\n",
    "import pandas as pd\n",
    "\n",
    "# 파일 경로 설정\n",
    "file_path = '/mnt/data/phrasal_verbs_list63.xlsx'\n",
    "\n",
    "# 엑셀 파일 로드\n",
    "df = pd.read_excel(file_path)\n",
    "\n",
    "# 학습과 퀴즈 진행을 위한 함수\n",
    "def learn_and_quiz(dataframe):\n",
    "    # 학습할 phrasal verb와 퀴즈 진행 상태를 저장할 변수\n",
    "    learned_phrases = []\n",
    "    correct_answers = 0\n",
    "\n",
    "    for index, row in dataframe.iterrows():\n",
    "        # 학습 부분\n",
    "        print(f\"Phrasal Verb: {row['Phrasal Verb']}\")\n",
    "        print(f\"Meaning: {row['Meaning']}\")\n",
    "        print(f\"Example in English: {row['Example in English']}\")\n",
    "        print(f\"Example in Korean: {row['Example in Korean']}\\n\")\n",
    "        \n",
    "        learned_phrases.append(row['Phrasal Verb'])\n",
    "        input(\"Press Enter to continue...\\n\")\n",
    "\n",
    "        # 매 10개의 phrasal verb 학습 후 퀴즈 진행\n",
    "        if len(learned_phrases) == 10:\n",
    "            print(\"Now, let's take a quiz on what you've learned.\\n\")\n",
    "            for phrase in learned_phrases:\n",
    "                # 해당 phrasal verb의 행을 찾음\n",
    "                quiz_row = dataframe[dataframe['Phrasal Verb'] == phrase].iloc[0]\n",
    "                print(quiz_row['Quiz Question'])\n",
    "                user_answer = input(\"Your answer: \").strip()\n",
    "                if user_answer.lower() == quiz_row['Answer'].lower():\n",
    "                    print(\"Correct!\\n\")\n",
    "                    correct_answers += 1\n",
    "                else:\n",
    "                    print(f\"Wrong! The correct answer was: {quiz_row['Answer']}\\n\")\n",
    "\n",
    "            print(f\"You got {correct_answers} out of 10 correct!\\n\")\n",
    "            # 퀴즈 결과에 따라 다음 단계로 넘어가기 전에 사용자 입력 기다림\n",
    "            input(\"Press Enter to continue learning...\\n\")\n",
    "            # 다음 세트의 학습을 위해 리스트와 정답 수 리셋\n",
    "            learned_phrases = []\n",
    "            correct_answers = 0\n",
    "\n",
    "# 학습과 퀴즈 시작\n",
    "learn_and_quiz(df)\n",
    "\n"
   ]
  },
  {
   "cell_type": "code",
   "execution_count": null,
   "id": "d267447a-50cf-4481-94c0-8cff8193af03",
   "metadata": {},
   "outputs": [],
   "source": [
    "import pandas as pd\n",
    "\n",
    "# 엑셀 파일 로드\n",
    "df = pd.read_excel('/path/to/your/phrasal_verbs_list63.xlsx')\n",
    "\n",
    "def quiz(df):\n",
    "    # 각 phrasal verb에 대한 정보를 출력하고 10번째마다 사용자에게 퀴즈를 제공\n",
    "    for i in range(len(df)):\n",
    "        row = df.iloc[i]\n",
    "        print(f\"\\nPhrasal Verb: {row['Phrasal Verb']}\")\n",
    "        print(f\"Meaning: {row['Meaning']}\")\n",
    "        print(f\"Example in English: {row['Example in English']}\")\n",
    "        print(f\"Example in Korean: {row['Example in Korean']}\")\n",
    "        \n",
    "        # 10개의 phrasal verb를 학습한 후 퀴즈 제공\n",
    "        if (i + 1) % 10 == 0:\n",
    "            print(\"\\nLet's start the quiz for the last 10 phrasal verbs you learned.\")\n",
    "            correct = 0\n",
    "            for j in range(i - 9, i + 1):\n",
    "                quiz_row = df.iloc[j]\n",
    "                print(f\"\\n{quiz_row['Quiz Question']}\")\n",
    "                answer = input(\"Your answer: \").strip()\n",
    "                if answer.lower() == quiz_row['Answer'].lower():\n",
    "                    correct += 1\n",
    "                    print(\"Correct!\")\n",
    "                else:\n",
    "                    print(f\"Wrong! The correct answer was: {quiz_row['Answer']}\")\n",
    "            print(f\"\\nYour score: {correct}/10\")\n",
    "            input(\"\\nPress Enter to continue learning the next set of phrasal verbs...\\n\")\n",
    "\n",
    "# 실행\n",
    "quiz(df)"
   ]
  },
  {
   "cell_type": "code",
   "execution_count": null,
   "id": "2cc12171-baee-4167-bae3-14a6cc13c824",
   "metadata": {},
   "outputs": [],
   "source": [
    "import pandas as pd\n",
    "\n",
    "# 엑셀 파일 로드\n",
    "df = pd.read_excel('/path/to/your/phrasal_verbs_list63.xlsx')\n",
    "\n",
    "def quiz(df):\n",
    "    # 각 phrasal verb에 대한 정보를 출력하고 10번째마다 사용자에게 퀴즈를 제공\n",
    "    for i in range(len(df)):\n",
    "        row = df.iloc[i]\n",
    "        print(f\"\\nPhrasal Verb: {row['Phrasal Verb']}\")\n",
    "        print(f\"Meaning: {row['Meaning']}\")\n",
    "        print(f\"Example in English: {row['Example in English']}\")\n",
    "        print(f\"Example in Korean: {row['Example in Korean']}\")\n",
    "        \n",
    "        # 10개의 phrasal verb를 학습한 후 퀴즈 제공\n",
    "        if (i + 1) % 10 == 0:\n",
    "            print(\"\\nLet's start the quiz for the last 10 phrasal verbs you learned.\")\n",
    "            correct = 0\n",
    "            for j in range(i - 9, i + 1):\n",
    "                quiz_row = df.iloc[j]\n",
    "                print(f\"\\n{quiz_row['Quiz Question']}\")\n",
    "                answer = input(\"Your answer: \").strip()\n",
    "                if answer.lower() == quiz_row['Answer'].lower():\n",
    "                    correct += 1\n",
    "                    print(\"Correct!\")\n",
    "                else:\n",
    "                    print(f\"Wrong! The correct answer was: {quiz_row['Answer']}\")\n",
    "            print(f\"\\nYour score: {correct}/10\")\n",
    "            input(\"\\nPress Enter to continue learning the next set of phrasal verbs...\\n\")\n",
    "\n",
    "# 실행\n",
    "quiz(df)\n"
   ]
  },
  {
   "cell_type": "code",
   "execution_count": 2,
   "id": "8b53a324-372e-4630-9e07-f4e18c24a3c7",
   "metadata": {},
   "outputs": [
    {
     "ename": "FileNotFoundError",
     "evalue": "[Errno 2] No such file or directory: '/path/to/your/phrasal_verbs_list63.xlsx'",
     "output_type": "error",
     "traceback": [
      "\u001b[0;31m---------------------------------------------------------------------------\u001b[0m",
      "\u001b[0;31mFileNotFoundError\u001b[0m                         Traceback (most recent call last)",
      "Cell \u001b[0;32mIn[2], line 4\u001b[0m\n\u001b[1;32m      1\u001b[0m \u001b[38;5;28;01mimport\u001b[39;00m \u001b[38;5;21;01mpandas\u001b[39;00m \u001b[38;5;28;01mas\u001b[39;00m \u001b[38;5;21;01mpd\u001b[39;00m\n\u001b[1;32m      3\u001b[0m \u001b[38;5;66;03m# 엑셀 파일 로드\u001b[39;00m\n\u001b[0;32m----> 4\u001b[0m df \u001b[38;5;241m=\u001b[39m pd\u001b[38;5;241m.\u001b[39mread_excel(\u001b[38;5;124m'\u001b[39m\u001b[38;5;124m/path/to/your/phrasal_verbs_list63.xlsx\u001b[39m\u001b[38;5;124m'\u001b[39m)\n\u001b[1;32m      6\u001b[0m \u001b[38;5;28;01mdef\u001b[39;00m \u001b[38;5;21mquiz\u001b[39m(df):\n\u001b[1;32m      7\u001b[0m     \u001b[38;5;66;03m# 각 phrasal verb에 대한 정보를 출력하고 10번째마다 사용자에게 퀴즈를 제공\u001b[39;00m\n\u001b[1;32m      8\u001b[0m     \u001b[38;5;28;01mfor\u001b[39;00m i \u001b[38;5;129;01min\u001b[39;00m \u001b[38;5;28mrange\u001b[39m(\u001b[38;5;28mlen\u001b[39m(df)):\n",
      "File \u001b[0;32m/opt/conda/envs/anaconda-panel-2023.05-py310/lib/python3.11/site-packages/pandas/io/excel/_base.py:478\u001b[0m, in \u001b[0;36mread_excel\u001b[0;34m(io, sheet_name, header, names, index_col, usecols, dtype, engine, converters, true_values, false_values, skiprows, nrows, na_values, keep_default_na, na_filter, verbose, parse_dates, date_parser, date_format, thousands, decimal, comment, skipfooter, storage_options, dtype_backend)\u001b[0m\n\u001b[1;32m    476\u001b[0m \u001b[38;5;28;01mif\u001b[39;00m \u001b[38;5;129;01mnot\u001b[39;00m \u001b[38;5;28misinstance\u001b[39m(io, ExcelFile):\n\u001b[1;32m    477\u001b[0m     should_close \u001b[38;5;241m=\u001b[39m \u001b[38;5;28;01mTrue\u001b[39;00m\n\u001b[0;32m--> 478\u001b[0m     io \u001b[38;5;241m=\u001b[39m ExcelFile(io, storage_options\u001b[38;5;241m=\u001b[39mstorage_options, engine\u001b[38;5;241m=\u001b[39mengine)\n\u001b[1;32m    479\u001b[0m \u001b[38;5;28;01melif\u001b[39;00m engine \u001b[38;5;129;01mand\u001b[39;00m engine \u001b[38;5;241m!=\u001b[39m io\u001b[38;5;241m.\u001b[39mengine:\n\u001b[1;32m    480\u001b[0m     \u001b[38;5;28;01mraise\u001b[39;00m \u001b[38;5;167;01mValueError\u001b[39;00m(\n\u001b[1;32m    481\u001b[0m         \u001b[38;5;124m\"\u001b[39m\u001b[38;5;124mEngine should not be specified when passing \u001b[39m\u001b[38;5;124m\"\u001b[39m\n\u001b[1;32m    482\u001b[0m         \u001b[38;5;124m\"\u001b[39m\u001b[38;5;124man ExcelFile - ExcelFile already has the engine set\u001b[39m\u001b[38;5;124m\"\u001b[39m\n\u001b[1;32m    483\u001b[0m     )\n",
      "File \u001b[0;32m/opt/conda/envs/anaconda-panel-2023.05-py310/lib/python3.11/site-packages/pandas/io/excel/_base.py:1496\u001b[0m, in \u001b[0;36mExcelFile.__init__\u001b[0;34m(self, path_or_buffer, engine, storage_options)\u001b[0m\n\u001b[1;32m   1494\u001b[0m     ext \u001b[38;5;241m=\u001b[39m \u001b[38;5;124m\"\u001b[39m\u001b[38;5;124mxls\u001b[39m\u001b[38;5;124m\"\u001b[39m\n\u001b[1;32m   1495\u001b[0m \u001b[38;5;28;01melse\u001b[39;00m:\n\u001b[0;32m-> 1496\u001b[0m     ext \u001b[38;5;241m=\u001b[39m inspect_excel_format(\n\u001b[1;32m   1497\u001b[0m         content_or_path\u001b[38;5;241m=\u001b[39mpath_or_buffer, storage_options\u001b[38;5;241m=\u001b[39mstorage_options\n\u001b[1;32m   1498\u001b[0m     )\n\u001b[1;32m   1499\u001b[0m     \u001b[38;5;28;01mif\u001b[39;00m ext \u001b[38;5;129;01mis\u001b[39;00m \u001b[38;5;28;01mNone\u001b[39;00m:\n\u001b[1;32m   1500\u001b[0m         \u001b[38;5;28;01mraise\u001b[39;00m \u001b[38;5;167;01mValueError\u001b[39;00m(\n\u001b[1;32m   1501\u001b[0m             \u001b[38;5;124m\"\u001b[39m\u001b[38;5;124mExcel file format cannot be determined, you must specify \u001b[39m\u001b[38;5;124m\"\u001b[39m\n\u001b[1;32m   1502\u001b[0m             \u001b[38;5;124m\"\u001b[39m\u001b[38;5;124man engine manually.\u001b[39m\u001b[38;5;124m\"\u001b[39m\n\u001b[1;32m   1503\u001b[0m         )\n",
      "File \u001b[0;32m/opt/conda/envs/anaconda-panel-2023.05-py310/lib/python3.11/site-packages/pandas/io/excel/_base.py:1371\u001b[0m, in \u001b[0;36minspect_excel_format\u001b[0;34m(content_or_path, storage_options)\u001b[0m\n\u001b[1;32m   1368\u001b[0m \u001b[38;5;28;01mif\u001b[39;00m \u001b[38;5;28misinstance\u001b[39m(content_or_path, \u001b[38;5;28mbytes\u001b[39m):\n\u001b[1;32m   1369\u001b[0m     content_or_path \u001b[38;5;241m=\u001b[39m BytesIO(content_or_path)\n\u001b[0;32m-> 1371\u001b[0m \u001b[38;5;28;01mwith\u001b[39;00m get_handle(\n\u001b[1;32m   1372\u001b[0m     content_or_path, \u001b[38;5;124m\"\u001b[39m\u001b[38;5;124mrb\u001b[39m\u001b[38;5;124m\"\u001b[39m, storage_options\u001b[38;5;241m=\u001b[39mstorage_options, is_text\u001b[38;5;241m=\u001b[39m\u001b[38;5;28;01mFalse\u001b[39;00m\n\u001b[1;32m   1373\u001b[0m ) \u001b[38;5;28;01mas\u001b[39;00m handle:\n\u001b[1;32m   1374\u001b[0m     stream \u001b[38;5;241m=\u001b[39m handle\u001b[38;5;241m.\u001b[39mhandle\n\u001b[1;32m   1375\u001b[0m     stream\u001b[38;5;241m.\u001b[39mseek(\u001b[38;5;241m0\u001b[39m)\n",
      "File \u001b[0;32m/opt/conda/envs/anaconda-panel-2023.05-py310/lib/python3.11/site-packages/pandas/io/common.py:868\u001b[0m, in \u001b[0;36mget_handle\u001b[0;34m(path_or_buf, mode, encoding, compression, memory_map, is_text, errors, storage_options)\u001b[0m\n\u001b[1;32m    859\u001b[0m         handle \u001b[38;5;241m=\u001b[39m \u001b[38;5;28mopen\u001b[39m(\n\u001b[1;32m    860\u001b[0m             handle,\n\u001b[1;32m    861\u001b[0m             ioargs\u001b[38;5;241m.\u001b[39mmode,\n\u001b[0;32m   (...)\u001b[0m\n\u001b[1;32m    864\u001b[0m             newline\u001b[38;5;241m=\u001b[39m\u001b[38;5;124m\"\u001b[39m\u001b[38;5;124m\"\u001b[39m,\n\u001b[1;32m    865\u001b[0m         )\n\u001b[1;32m    866\u001b[0m     \u001b[38;5;28;01melse\u001b[39;00m:\n\u001b[1;32m    867\u001b[0m         \u001b[38;5;66;03m# Binary mode\u001b[39;00m\n\u001b[0;32m--> 868\u001b[0m         handle \u001b[38;5;241m=\u001b[39m \u001b[38;5;28mopen\u001b[39m(handle, ioargs\u001b[38;5;241m.\u001b[39mmode)\n\u001b[1;32m    869\u001b[0m     handles\u001b[38;5;241m.\u001b[39mappend(handle)\n\u001b[1;32m    871\u001b[0m \u001b[38;5;66;03m# Convert BytesIO or file objects passed with an encoding\u001b[39;00m\n",
      "\u001b[0;31mFileNotFoundError\u001b[0m: [Errno 2] No such file or directory: '/path/to/your/phrasal_verbs_list63.xlsx'"
     ]
    }
   ],
   "source": [
    "import pandas as pd\n",
    "\n",
    "# 엑셀 파일 로드\n",
    "df = pd.read_excel('/path/to/your/phrasal_verbs_list63.xlsx')\n",
    "\n",
    "def quiz(df):\n",
    "    # 각 phrasal verb에 대한 정보를 출력하고 10번째마다 사용자에게 퀴즈를 제공\n",
    "    for i in range(len(df)):\n",
    "        row = df.iloc[i]\n",
    "        print(f\"\\nPhrasal Verb: {row['Phrasal Verb']}\")\n",
    "        print(f\"Meaning: {row['Meaning']}\")\n",
    "        print(f\"Example in English: {row['Example in English']}\")\n",
    "        print(f\"Example in Korean: {row['Example in Korean']}\")\n",
    "        \n",
    "        # 10개의 phrasal verb를 학습한 후 퀴즈 제공\n",
    "        if (i + 1) % 10 == 0:\n",
    "            print(\"\\nLet's start the quiz for the last 10 phrasal verbs you learned.\")\n",
    "            correct = 0\n",
    "            for j in range(i - 9, i + 1):\n",
    "                quiz_row = df.iloc[j]\n",
    "                print(f\"\\n{quiz_row['Quiz Question']}\")\n",
    "                answer = input(\"Your answer: \").strip()\n",
    "                if answer.lower() == quiz_row['Answer'].lower():\n",
    "                    correct += 1\n",
    "                    print(\"Correct!\")\n",
    "                else:\n",
    "                    print(f\"Wrong! The correct answer was: {quiz_row['Answer']}\")\n",
    "            print(f\"\\nYour score: {correct}/10\")\n",
    "            input(\"\\nPress Enter to continue learning the next set of phrasal verbs...\\n\")\n",
    "\n",
    "# 실행\n",
    "quiz(df)\n"
   ]
  },
  {
   "cell_type": "code",
   "execution_count": null,
   "id": "39505758-b572-423d-9c0c-1665bc2cae53",
   "metadata": {},
   "outputs": [
    {
     "name": "stdout",
     "output_type": "stream",
     "text": [
      "\n",
      "Phrasal Verb: Act out\n",
      "Meaning: 무엇을 연기하다\n",
      "Example in English: The students acted out a scene from Romeo and Juliet.\n",
      "Example in Korean: 학생들이 로미오와 줄리엣의 한 장면을 연기했다.\n",
      "\n",
      "Phrasal Verb: Add up\n",
      "Meaning: 말이 되다 이치에 맞다\n",
      "Example in English:  Her story just doesn’t add up.\n",
      "Example in Korean: 그녀의 이야기는 말이 안 된다.,\n",
      "\n",
      "Phrasal Verb: Ask around\n",
      "Meaning: 여러 사람에게 물어보다\n",
      "Example in English: She asked around to find the lost keys.\n",
      "Example in Korean: 그녀는 잃어버린 열쇠를 찾기 위해 여러 사람에게 물어보았다.\n",
      "\n",
      "Phrasal Verb: Ask out\n",
      "Meaning: 데이트 신청하다\n",
      "Example in English: He asked her out.\n",
      "Example in Korean: 그는 그녀에게 데이트 신청을 했다.\n",
      "\n",
      "Phrasal Verb: Back up\n",
      "Meaning: 후진하다 지지하다\n",
      "Example in English: I had to back up the car.\n",
      "Example in Korean: 나는 차를 후진해야 했다.\n",
      "\n",
      "Phrasal Verb: Blow up\n",
      "Meaning: 폭발하다 화내다\n",
      "Example in English: He blew up when he found out.\n",
      "Example in Korean: 그가 알게 되었을 때 그는 화를 냈다.\n",
      "\n",
      "Phrasal Verb: Break down\n",
      "Meaning: 고장나다\n",
      "Example in English: The car broke down on the highway.\n",
      "Example in Korean: 그 차는 고속도로에서 고장 났다.,\n",
      "\n",
      "Phrasal Verb: Bring up\n",
      "Meaning: 언급하다\n",
      "Example in English: She brought up budget cuts.\n",
      "Example in Korean: 그녀는 예산 삭감에 대해 언급했다.\n",
      "\n",
      "Phrasal Verb: Brush up on\n",
      "Meaning: 복습하다 연습하다\n",
      "Example in English: Brush up on Spanish before the trip.\n",
      "Example in Korean: 여행 전에 스페인어를 복습하다.\n",
      "\n",
      "Phrasal Verb: Call off\n",
      "Meaning: 취소하다\n",
      "Example in English: Call off the picnic due to rain.\n",
      "Example in Korean: 비 때문에 소풍을 취소하다.\n",
      "\n",
      "Let's start the quiz for the last 10 phrasal verbs you learned.\n",
      "\n",
      "The drama club will _____ a famous play at school.\n"
     ]
    },
    {
     "name": "stdin",
     "output_type": "stream",
     "text": [
      "Your answer: act out\n"
     ]
    },
    {
     "name": "stdout",
     "output_type": "stream",
     "text": [
      "Wrong! The correct answer was: act out\n",
      "\n",
      "\n",
      "Something doesn’t _____ about his explanation.\n"
     ]
    },
    {
     "name": "stdin",
     "output_type": "stream",
     "text": [
      "Your answer:  add up\n"
     ]
    },
    {
     "name": "stdout",
     "output_type": "stream",
     "text": [
      "Wrong! The correct answer was: add up\n",
      "\n",
      "\n",
      "If you're lost, you should _____ for directions.\n"
     ]
    },
    {
     "name": "stdin",
     "output_type": "stream",
     "text": [
      "Your answer:  ask around\n"
     ]
    },
    {
     "name": "stdout",
     "output_type": "stream",
     "text": [
      "Wrong! The correct answer was: ask around\n",
      "\n",
      "\n",
      "He finally got the courage to _____ his crush.\n"
     ]
    }
   ],
   "source": [
    "import pandas as pd\n",
    "\n",
    "# 엑셀 파일 로드\n",
    "df = pd.read_excel('phrasal_verbs_list63.xlsx')\n",
    "\n",
    "def quiz(df):\n",
    "    # 각 phrasal verb에 대한 정보를 출력하고 10번째마다 사용자에게 퀴즈를 제공\n",
    "    for i in range(len(df)):\n",
    "        row = df.iloc[i]\n",
    "        print(f\"\\nPhrasal Verb: {row['Phrasal Verb']}\")\n",
    "        print(f\"Meaning: {row['Meaning']}\")\n",
    "        print(f\"Example in English: {row['Example in English']}\")\n",
    "        print(f\"Example in Korean: {row['Example in Korean']}\")\n",
    "        \n",
    "        # 10개의 phrasal verb를 학습한 후 퀴즈 제공\n",
    "        if (i + 1) % 10 == 0:\n",
    "            print(\"\\nLet's start the quiz for the last 10 phrasal verbs you learned.\")\n",
    "            correct = 0\n",
    "            for j in range(i - 9, i + 1):\n",
    "                quiz_row = df.iloc[j]\n",
    "                print(f\"\\n{quiz_row['Quiz Question']}\")\n",
    "                answer = input(\"Your answer: \").strip()\n",
    "                if answer.lower() == quiz_row['Answer'].lower():\n",
    "                    correct += 1\n",
    "                    print(\"Correct!\")\n",
    "                else:\n",
    "                    print(f\"Wrong! The correct answer was: {quiz_row['Answer']}\")\n",
    "            print(f\"\\nYour score: {correct}/10\")\n",
    "            input(\"\\nPress Enter to continue learning the next set of phrasal verbs...\\n\")\n",
    "\n",
    "# 실행\n",
    "quiz(df)\n"
   ]
  },
  {
   "cell_type": "code",
   "execution_count": null,
   "id": "51ed699b-28d8-4c44-89a9-d0c467c35933",
   "metadata": {},
   "outputs": [],
   "source": [
    "for j in range(i - 9, i + 1):\n",
    "    quiz_row = df.iloc[j]\n",
    "    print(f\"\\n{quiz_row['Quiz Question']}\")\n",
    "    answer = input(\"Your answer: \").strip()\n",
    "    correct_answer = quiz_row['Answer'].strip().lower()\n",
    "    if answer.lower() == correct_answer:\n",
    "        correct += 1\n",
    "        print(\"Correct!\")\n",
    "    else:\n",
    "        print(f\"Wrong! The correct answer was: {quiz_row['Answer']}\")\n",
    "        # 디버깅을 위해 사용자의 답과 정답을 출력\n",
    "        print(f\"Your answer was: '{answer.lower()}' and the correct answer was: '{correct_answer}'\")\n"
   ]
  },
  {
   "cell_type": "code",
   "execution_count": 1,
   "id": "ae907067-1684-4e77-9bc7-7f569771e646",
   "metadata": {},
   "outputs": [
    {
     "ename": "NameError",
     "evalue": "name 'i' is not defined",
     "output_type": "error",
     "traceback": [
      "\u001b[0;31m---------------------------------------------------------------------------\u001b[0m",
      "\u001b[0;31mNameError\u001b[0m                                 Traceback (most recent call last)",
      "Cell \u001b[0;32mIn[1], line 1\u001b[0m\n\u001b[0;32m----> 1\u001b[0m \u001b[38;5;28;01mfor\u001b[39;00m j \u001b[38;5;129;01min\u001b[39;00m \u001b[38;5;28mrange\u001b[39m(i \u001b[38;5;241m-\u001b[39m \u001b[38;5;241m9\u001b[39m, i \u001b[38;5;241m+\u001b[39m \u001b[38;5;241m1\u001b[39m):\n\u001b[1;32m      2\u001b[0m     quiz_row \u001b[38;5;241m=\u001b[39m df\u001b[38;5;241m.\u001b[39miloc[j]\n\u001b[1;32m      3\u001b[0m     \u001b[38;5;28mprint\u001b[39m(\u001b[38;5;124mf\u001b[39m\u001b[38;5;124m\"\u001b[39m\u001b[38;5;130;01m\\n\u001b[39;00m\u001b[38;5;132;01m{\u001b[39;00mquiz_row[\u001b[38;5;124m'\u001b[39m\u001b[38;5;124mQuiz Question\u001b[39m\u001b[38;5;124m'\u001b[39m]\u001b[38;5;132;01m}\u001b[39;00m\u001b[38;5;124m\"\u001b[39m)\n",
      "\u001b[0;31mNameError\u001b[0m: name 'i' is not defined"
     ]
    }
   ],
   "source": [
    "for j in range(i - 9, i + 1):\n",
    "    quiz_row = df.iloc[j]\n",
    "    print(f\"\\n{quiz_row['Quiz Question']}\")\n",
    "    answer = input(\"Your answer: \").strip()\n",
    "    correct_answer = quiz_row['Answer'].strip().lower()\n",
    "    if answer.lower() == correct_answer:\n",
    "        correct += 1\n",
    "        print(\"Correct!\")\n",
    "    else:\n",
    "        print(f\"Wrong! The correct answer was: {quiz_row['Answer']}\")\n",
    "        # 디버깅을 위해 사용자의 답과 정답을 출력\n",
    "        print(f\"Your answer was: '{answer.lower()}' and the correct answer was: '{correct_answer}'\")\n"
   ]
  },
  {
   "cell_type": "code",
   "execution_count": 3,
   "id": "348527ec-7ca8-4712-bdbb-c9f5ea47ac94",
   "metadata": {},
   "outputs": [
    {
     "ename": "SyntaxError",
     "evalue": "incomplete input (3351059465.py, line 8)",
     "output_type": "error",
     "traceback": [
      "\u001b[0;36m  Cell \u001b[0;32mIn[3], line 8\u001b[0;36m\u001b[0m\n\u001b[0;31m    # ... 퀴즈 로직 ...\u001b[0m\n\u001b[0m                   ^\u001b[0m\n\u001b[0;31mSyntaxError\u001b[0m\u001b[0;31m:\u001b[0m incomplete input\n"
     ]
    }
   ],
   "source": [
    "def quiz(df):\n",
    "    # ... 기존 코드 ...\n",
    "    for i in range(len(df)):\n",
    "        # ... 각 phrasal verb를 출력하는 코드 ...\n",
    "        \n",
    "        # 10개의 phrasal verb를 학습한 후 퀴즈 제공\n",
    "        if (i + 1) % 10 == 0:\n",
    "            # ... 퀴즈 로직 ...\n"
   ]
  },
  {
   "cell_type": "code",
   "execution_count": 5,
   "id": "7914899f-6f84-4c07-a74b-98349c81fc5f",
   "metadata": {},
   "outputs": [
    {
     "ename": "SyntaxError",
     "evalue": "incomplete input (3257994349.py, line 8)",
     "output_type": "error",
     "traceback": [
      "\u001b[0;36m  Cell \u001b[0;32mIn[5], line 8\u001b[0;36m\u001b[0m\n\u001b[0;31m    # ... code for the quiz, which can use both 'i' and 'j' ...\u001b[0m\n\u001b[0m                                                               ^\u001b[0m\n\u001b[0;31mSyntaxError\u001b[0m\u001b[0;31m:\u001b[0m incomplete input\n"
     ]
    }
   ],
   "source": [
    "def quiz(df):\n",
    "    for i in range(len(df)):  # 'i' is defined here as part of the for loop\n",
    "        # ... code that uses 'i' ...\n",
    "\n",
    "        if (i + 1) % 10 == 0:\n",
    "            # ... code that uses 'i' to reference the quiz questions ...\n",
    "            for j in range(i - 9, i + 1):\n",
    "                # ... code for the quiz, which can use both 'i' and 'j' ...\n"
   ]
  },
  {
   "cell_type": "code",
   "execution_count": 7,
   "id": "10821935-0a7b-4f59-aa80-cd87a3c22a5d",
   "metadata": {},
   "outputs": [
    {
     "ename": "FileNotFoundError",
     "evalue": "[Errno 2] No such file or directory: 'path_to_your_file/phrasal_verbs_list63.xlsx'",
     "output_type": "error",
     "traceback": [
      "\u001b[0;31m---------------------------------------------------------------------------\u001b[0m",
      "\u001b[0;31mFileNotFoundError\u001b[0m                         Traceback (most recent call last)",
      "Cell \u001b[0;32mIn[7], line 4\u001b[0m\n\u001b[1;32m      1\u001b[0m \u001b[38;5;28;01mimport\u001b[39;00m \u001b[38;5;21;01mpandas\u001b[39;00m \u001b[38;5;28;01mas\u001b[39;00m \u001b[38;5;21;01mpd\u001b[39;00m\n\u001b[1;32m      3\u001b[0m \u001b[38;5;66;03m# Load the Excel file\u001b[39;00m\n\u001b[0;32m----> 4\u001b[0m df \u001b[38;5;241m=\u001b[39m pd\u001b[38;5;241m.\u001b[39mread_excel(\u001b[38;5;124m'\u001b[39m\u001b[38;5;124mpath_to_your_file/phrasal_verbs_list63.xlsx\u001b[39m\u001b[38;5;124m'\u001b[39m)\n\u001b[1;32m      6\u001b[0m \u001b[38;5;28;01mdef\u001b[39;00m \u001b[38;5;21mquiz\u001b[39m(df):\n\u001b[1;32m      7\u001b[0m     \u001b[38;5;66;03m# Display each phrasal verb and after every 10th verb, provide a quiz\u001b[39;00m\n\u001b[1;32m      8\u001b[0m     \u001b[38;5;28;01mfor\u001b[39;00m i \u001b[38;5;129;01min\u001b[39;00m \u001b[38;5;28mrange\u001b[39m(\u001b[38;5;28mlen\u001b[39m(df)):\n",
      "File \u001b[0;32m/opt/conda/envs/anaconda-panel-2023.05-py310/lib/python3.11/site-packages/pandas/io/excel/_base.py:478\u001b[0m, in \u001b[0;36mread_excel\u001b[0;34m(io, sheet_name, header, names, index_col, usecols, dtype, engine, converters, true_values, false_values, skiprows, nrows, na_values, keep_default_na, na_filter, verbose, parse_dates, date_parser, date_format, thousands, decimal, comment, skipfooter, storage_options, dtype_backend)\u001b[0m\n\u001b[1;32m    476\u001b[0m \u001b[38;5;28;01mif\u001b[39;00m \u001b[38;5;129;01mnot\u001b[39;00m \u001b[38;5;28misinstance\u001b[39m(io, ExcelFile):\n\u001b[1;32m    477\u001b[0m     should_close \u001b[38;5;241m=\u001b[39m \u001b[38;5;28;01mTrue\u001b[39;00m\n\u001b[0;32m--> 478\u001b[0m     io \u001b[38;5;241m=\u001b[39m ExcelFile(io, storage_options\u001b[38;5;241m=\u001b[39mstorage_options, engine\u001b[38;5;241m=\u001b[39mengine)\n\u001b[1;32m    479\u001b[0m \u001b[38;5;28;01melif\u001b[39;00m engine \u001b[38;5;129;01mand\u001b[39;00m engine \u001b[38;5;241m!=\u001b[39m io\u001b[38;5;241m.\u001b[39mengine:\n\u001b[1;32m    480\u001b[0m     \u001b[38;5;28;01mraise\u001b[39;00m \u001b[38;5;167;01mValueError\u001b[39;00m(\n\u001b[1;32m    481\u001b[0m         \u001b[38;5;124m\"\u001b[39m\u001b[38;5;124mEngine should not be specified when passing \u001b[39m\u001b[38;5;124m\"\u001b[39m\n\u001b[1;32m    482\u001b[0m         \u001b[38;5;124m\"\u001b[39m\u001b[38;5;124man ExcelFile - ExcelFile already has the engine set\u001b[39m\u001b[38;5;124m\"\u001b[39m\n\u001b[1;32m    483\u001b[0m     )\n",
      "File \u001b[0;32m/opt/conda/envs/anaconda-panel-2023.05-py310/lib/python3.11/site-packages/pandas/io/excel/_base.py:1496\u001b[0m, in \u001b[0;36mExcelFile.__init__\u001b[0;34m(self, path_or_buffer, engine, storage_options)\u001b[0m\n\u001b[1;32m   1494\u001b[0m     ext \u001b[38;5;241m=\u001b[39m \u001b[38;5;124m\"\u001b[39m\u001b[38;5;124mxls\u001b[39m\u001b[38;5;124m\"\u001b[39m\n\u001b[1;32m   1495\u001b[0m \u001b[38;5;28;01melse\u001b[39;00m:\n\u001b[0;32m-> 1496\u001b[0m     ext \u001b[38;5;241m=\u001b[39m inspect_excel_format(\n\u001b[1;32m   1497\u001b[0m         content_or_path\u001b[38;5;241m=\u001b[39mpath_or_buffer, storage_options\u001b[38;5;241m=\u001b[39mstorage_options\n\u001b[1;32m   1498\u001b[0m     )\n\u001b[1;32m   1499\u001b[0m     \u001b[38;5;28;01mif\u001b[39;00m ext \u001b[38;5;129;01mis\u001b[39;00m \u001b[38;5;28;01mNone\u001b[39;00m:\n\u001b[1;32m   1500\u001b[0m         \u001b[38;5;28;01mraise\u001b[39;00m \u001b[38;5;167;01mValueError\u001b[39;00m(\n\u001b[1;32m   1501\u001b[0m             \u001b[38;5;124m\"\u001b[39m\u001b[38;5;124mExcel file format cannot be determined, you must specify \u001b[39m\u001b[38;5;124m\"\u001b[39m\n\u001b[1;32m   1502\u001b[0m             \u001b[38;5;124m\"\u001b[39m\u001b[38;5;124man engine manually.\u001b[39m\u001b[38;5;124m\"\u001b[39m\n\u001b[1;32m   1503\u001b[0m         )\n",
      "File \u001b[0;32m/opt/conda/envs/anaconda-panel-2023.05-py310/lib/python3.11/site-packages/pandas/io/excel/_base.py:1371\u001b[0m, in \u001b[0;36minspect_excel_format\u001b[0;34m(content_or_path, storage_options)\u001b[0m\n\u001b[1;32m   1368\u001b[0m \u001b[38;5;28;01mif\u001b[39;00m \u001b[38;5;28misinstance\u001b[39m(content_or_path, \u001b[38;5;28mbytes\u001b[39m):\n\u001b[1;32m   1369\u001b[0m     content_or_path \u001b[38;5;241m=\u001b[39m BytesIO(content_or_path)\n\u001b[0;32m-> 1371\u001b[0m \u001b[38;5;28;01mwith\u001b[39;00m get_handle(\n\u001b[1;32m   1372\u001b[0m     content_or_path, \u001b[38;5;124m\"\u001b[39m\u001b[38;5;124mrb\u001b[39m\u001b[38;5;124m\"\u001b[39m, storage_options\u001b[38;5;241m=\u001b[39mstorage_options, is_text\u001b[38;5;241m=\u001b[39m\u001b[38;5;28;01mFalse\u001b[39;00m\n\u001b[1;32m   1373\u001b[0m ) \u001b[38;5;28;01mas\u001b[39;00m handle:\n\u001b[1;32m   1374\u001b[0m     stream \u001b[38;5;241m=\u001b[39m handle\u001b[38;5;241m.\u001b[39mhandle\n\u001b[1;32m   1375\u001b[0m     stream\u001b[38;5;241m.\u001b[39mseek(\u001b[38;5;241m0\u001b[39m)\n",
      "File \u001b[0;32m/opt/conda/envs/anaconda-panel-2023.05-py310/lib/python3.11/site-packages/pandas/io/common.py:868\u001b[0m, in \u001b[0;36mget_handle\u001b[0;34m(path_or_buf, mode, encoding, compression, memory_map, is_text, errors, storage_options)\u001b[0m\n\u001b[1;32m    859\u001b[0m         handle \u001b[38;5;241m=\u001b[39m \u001b[38;5;28mopen\u001b[39m(\n\u001b[1;32m    860\u001b[0m             handle,\n\u001b[1;32m    861\u001b[0m             ioargs\u001b[38;5;241m.\u001b[39mmode,\n\u001b[0;32m   (...)\u001b[0m\n\u001b[1;32m    864\u001b[0m             newline\u001b[38;5;241m=\u001b[39m\u001b[38;5;124m\"\u001b[39m\u001b[38;5;124m\"\u001b[39m,\n\u001b[1;32m    865\u001b[0m         )\n\u001b[1;32m    866\u001b[0m     \u001b[38;5;28;01melse\u001b[39;00m:\n\u001b[1;32m    867\u001b[0m         \u001b[38;5;66;03m# Binary mode\u001b[39;00m\n\u001b[0;32m--> 868\u001b[0m         handle \u001b[38;5;241m=\u001b[39m \u001b[38;5;28mopen\u001b[39m(handle, ioargs\u001b[38;5;241m.\u001b[39mmode)\n\u001b[1;32m    869\u001b[0m     handles\u001b[38;5;241m.\u001b[39mappend(handle)\n\u001b[1;32m    871\u001b[0m \u001b[38;5;66;03m# Convert BytesIO or file objects passed with an encoding\u001b[39;00m\n",
      "\u001b[0;31mFileNotFoundError\u001b[0m: [Errno 2] No such file or directory: 'path_to_your_file/phrasal_verbs_list63.xlsx'"
     ]
    }
   ],
   "source": [
    "import pandas as pd\n",
    "\n",
    "# Load the Excel file\n",
    "df = pd.read_excel('path_to_your_file/phrasal_verbs_list63.xlsx')\n",
    "\n",
    "def quiz(df):\n",
    "    # Display each phrasal verb and after every 10th verb, provide a quiz\n",
    "    for i in range(len(df)):\n",
    "        row = df.iloc[i]\n",
    "        print(f\"\\nPhrasal Verb: {row['Phrasal Verb']}\")\n",
    "        print(f\"Meaning: {row['Meaning']}\")\n",
    "        print(f\"Example in English: {row['Example in English']}\")\n",
    "        print(f\"Example in Korean: {row['Example in Korean']}\")\n",
    "\n",
    "        # After every 10 verbs, provide a quiz for those 10 verbs\n",
    "        if (i + 1) % 10 == 0:\n",
    "            print(\"\\nLet's start the quiz for the last 10 phrasal verbs you learned.\")\n",
    "            correct = 0\n",
    "            for j in range(i - 9, i + 1):\n",
    "                quiz_row = df.iloc[j]\n",
    "                print(f\"\\n{quiz_row['Quiz Question']}\")\n",
    "                answer = input(\"Your answer: \").strip().lower()\n",
    "                if answer == quiz_row['Answer'].strip().lower():\n",
    "                    correct += 1\n",
    "                    print(\"Correct!\")\n",
    "                else:\n",
    "                    print(f\"Wrong! The correct answer was: {quiz_row['Answer']}\")\n",
    "            print(f\"\\nYour score: {correct}/10\")\n",
    "            input(\"Press Enter to continue learning the next set of phrasal verbs...\\n\")\n",
    "\n",
    "# Start the quiz\n",
    "quiz(df)\n"
   ]
  },
  {
   "cell_type": "code",
   "execution_count": null,
   "id": "d21671b5-fbd2-47e3-b21a-a361bac794d2",
   "metadata": {},
   "outputs": [
    {
     "name": "stdout",
     "output_type": "stream",
     "text": [
      "\n",
      "Phrasal Verb: Act out\n",
      "Meaning: 무엇을 연기하다\n",
      "Example in English: The students acted out a scene from Romeo and Juliet.\n",
      "Example in Korean: 학생들이 로미오와 줄리엣의 한 장면을 연기했다.\n",
      "\n",
      "Phrasal Verb: Add up\n",
      "Meaning: 말이 되다 이치에 맞다\n",
      "Example in English:  Her story just doesn’t add up.\n",
      "Example in Korean: 그녀의 이야기는 말이 안 된다.,\n",
      "\n",
      "Phrasal Verb: Ask around\n",
      "Meaning: 여러 사람에게 물어보다\n",
      "Example in English: She asked around to find the lost keys.\n",
      "Example in Korean: 그녀는 잃어버린 열쇠를 찾기 위해 여러 사람에게 물어보았다.\n",
      "\n",
      "Phrasal Verb: Ask out\n",
      "Meaning: 데이트 신청하다\n",
      "Example in English: He asked her out.\n",
      "Example in Korean: 그는 그녀에게 데이트 신청을 했다.\n",
      "\n",
      "Phrasal Verb: Back up\n",
      "Meaning: 후진하다 지지하다\n",
      "Example in English: I had to back up the car.\n",
      "Example in Korean: 나는 차를 후진해야 했다.\n",
      "\n",
      "Phrasal Verb: Blow up\n",
      "Meaning: 폭발하다 화내다\n",
      "Example in English: He blew up when he found out.\n",
      "Example in Korean: 그가 알게 되었을 때 그는 화를 냈다.\n",
      "\n",
      "Phrasal Verb: Break down\n",
      "Meaning: 고장나다\n",
      "Example in English: The car broke down on the highway.\n",
      "Example in Korean: 그 차는 고속도로에서 고장 났다.,\n",
      "\n",
      "Phrasal Verb: Bring up\n",
      "Meaning: 언급하다\n",
      "Example in English: She brought up budget cuts.\n",
      "Example in Korean: 그녀는 예산 삭감에 대해 언급했다.\n",
      "\n",
      "Phrasal Verb: Brush up on\n",
      "Meaning: 복습하다 연습하다\n",
      "Example in English: Brush up on Spanish before the trip.\n",
      "Example in Korean: 여행 전에 스페인어를 복습하다.\n",
      "\n",
      "Phrasal Verb: Call off\n",
      "Meaning: 취소하다\n",
      "Example in English: Call off the picnic due to rain.\n",
      "Example in Korean: 비 때문에 소풍을 취소하다.\n",
      "\n",
      "Let's start the quiz for the last 10 phrasal verbs you learned.\n",
      "\n",
      "The drama club will _____ a famous play at school.\n"
     ]
    },
    {
     "name": "stdin",
     "output_type": "stream",
     "text": [
      "Your answer:  act out\n"
     ]
    },
    {
     "name": "stdout",
     "output_type": "stream",
     "text": [
      "Correct!\n",
      "\n",
      "Something doesn’t _____ about his explanation.\n"
     ]
    },
    {
     "name": "stdin",
     "output_type": "stream",
     "text": [
      "Your answer:  add up\n"
     ]
    },
    {
     "name": "stdout",
     "output_type": "stream",
     "text": [
      "Correct!\n",
      "\n",
      "If you're lost, you should _____ for directions.\n"
     ]
    },
    {
     "name": "stdin",
     "output_type": "stream",
     "text": [
      "Your answer:  ask around\n"
     ]
    },
    {
     "name": "stdout",
     "output_type": "stream",
     "text": [
      "Correct!\n",
      "\n",
      "He finally got the courage to _____ his crush.\n"
     ]
    },
    {
     "name": "stdin",
     "output_type": "stream",
     "text": [
      "Your answer:  break down\n"
     ]
    },
    {
     "name": "stdout",
     "output_type": "stream",
     "text": [
      "Wrong! The correct answer was: ask out\n",
      "\n",
      "\n",
      "Can you _____ your files regularly?\n"
     ]
    },
    {
     "name": "stdin",
     "output_type": "stream",
     "text": [
      "Your answer:  back up\n"
     ]
    },
    {
     "name": "stdout",
     "output_type": "stream",
     "text": [
      "Correct!\n",
      "\n",
      "The balloon will _____ if you keep inflating it.\n"
     ]
    },
    {
     "name": "stdin",
     "output_type": "stream",
     "text": [
      "Your answer:  blow up\n"
     ]
    },
    {
     "name": "stdout",
     "output_type": "stream",
     "text": [
      "Correct!\n",
      "\n",
      "The negotiations tend to _____ due to lack of trust.\n"
     ]
    },
    {
     "name": "stdin",
     "output_type": "stream",
     "text": [
      "Your answer:  break down\n"
     ]
    },
    {
     "name": "stdout",
     "output_type": "stream",
     "text": [
      "Correct!\n",
      "\n",
      "I didn't want to _____ his past mistakes.\n"
     ]
    },
    {
     "name": "stdin",
     "output_type": "stream",
     "text": [
      "Your answer:  bring up\n"
     ]
    },
    {
     "name": "stdout",
     "output_type": "stream",
     "text": [
      "Correct!\n",
      "\n",
      "I need to _____ my French skills before the business trip.\n"
     ]
    },
    {
     "name": "stdin",
     "output_type": "stream",
     "text": [
      "Your answer:  brush upon\n"
     ]
    },
    {
     "name": "stdout",
     "output_type": "stream",
     "text": [
      "Wrong! The correct answer was: brush up on\n",
      "\n",
      "\n",
      "The meeting was _____ at the last minute.\n"
     ]
    },
    {
     "name": "stdin",
     "output_type": "stream",
     "text": [
      "Your answer:  called off\n"
     ]
    },
    {
     "name": "stdout",
     "output_type": "stream",
     "text": [
      "Wrong! The correct answer was: call off\n",
      "\n",
      "\n",
      "Your score: 7/10\n"
     ]
    }
   ],
   "source": [
    "import pandas as pd\n",
    "\n",
    "# Load the Excel file\n",
    "df = pd.read_excel('phrasal_verbs_list63.xlsx')\n",
    "\n",
    "def quiz(df):\n",
    "    # Display each phrasal verb and after every 10th verb, provide a quiz\n",
    "    for i in range(len(df)):\n",
    "        row = df.iloc[i]\n",
    "        print(f\"\\nPhrasal Verb: {row['Phrasal Verb']}\")\n",
    "        print(f\"Meaning: {row['Meaning']}\")\n",
    "        print(f\"Example in English: {row['Example in English']}\")\n",
    "        print(f\"Example in Korean: {row['Example in Korean']}\")\n",
    "\n",
    "        # After every 10 verbs, provide a quiz for those 10 verbs\n",
    "        if (i + 1) % 10 == 0:\n",
    "            print(\"\\nLet's start the quiz for the last 10 phrasal verbs you learned.\")\n",
    "            correct = 0\n",
    "            for j in range(i - 9, i + 1):\n",
    "                quiz_row = df.iloc[j]\n",
    "                print(f\"\\n{quiz_row['Quiz Question']}\")\n",
    "                answer = input(\"Your answer: \").strip().lower()\n",
    "                if answer == quiz_row['Answer'].strip().lower():\n",
    "                    correct += 1\n",
    "                    print(\"Correct!\")\n",
    "                else:\n",
    "                    print(f\"Wrong! The correct answer was: {quiz_row['Answer']}\")\n",
    "            print(f\"\\nYour score: {correct}/10\")\n",
    "            input(\"Press Enter to continue learning the next set of phrasal verbs...\\n\")\n",
    "\n",
    "# Start the quiz\n",
    "quiz(df)\n"
   ]
  },
  {
   "cell_type": "code",
   "execution_count": null,
   "id": "6c715fd8-8d98-43e9-8547-5ef92fce8c89",
   "metadata": {},
   "outputs": [
    {
     "name": "stdout",
     "output_type": "stream",
     "text": [
      "\n",
      "Phrasal Verb: Act out\n",
      "Meaning: 무엇을 연기하다\n",
      "Example in English: The students acted out a scene from Romeo and Juliet.\n",
      "Example in Korean: 학생들이 로미오와 줄리엣의 한 장면을 연기했다.\n",
      "\n",
      "Phrasal Verb: Add up\n",
      "Meaning: 말이 되다 이치에 맞다\n",
      "Example in English:  Her story just doesn’t add up.\n",
      "Example in Korean: 그녀의 이야기는 말이 안 된다.,\n",
      "\n",
      "Phrasal Verb: Ask around\n",
      "Meaning: 여러 사람에게 물어보다\n",
      "Example in English: She asked around to find the lost keys.\n",
      "Example in Korean: 그녀는 잃어버린 열쇠를 찾기 위해 여러 사람에게 물어보았다.\n",
      "\n",
      "Phrasal Verb: Ask out\n",
      "Meaning: 데이트 신청하다\n",
      "Example in English: He asked her out.\n",
      "Example in Korean: 그는 그녀에게 데이트 신청을 했다.\n",
      "\n",
      "Phrasal Verb: Back up\n",
      "Meaning: 후진하다 지지하다\n",
      "Example in English: I had to back up the car.\n",
      "Example in Korean: 나는 차를 후진해야 했다.\n",
      "\n",
      "Phrasal Verb: Blow up\n",
      "Meaning: 폭발하다 화내다\n",
      "Example in English: He blew up when he found out.\n",
      "Example in Korean: 그가 알게 되었을 때 그는 화를 냈다.\n",
      "\n",
      "Phrasal Verb: Break down\n",
      "Meaning: 고장나다\n",
      "Example in English: The car broke down on the highway.\n",
      "Example in Korean: 그 차는 고속도로에서 고장 났다.,\n",
      "\n",
      "Phrasal Verb: Bring up\n",
      "Meaning: 언급하다\n",
      "Example in English: She brought up budget cuts.\n",
      "Example in Korean: 그녀는 예산 삭감에 대해 언급했다.\n",
      "\n",
      "Phrasal Verb: Brush up on\n",
      "Meaning: 복습하다 연습하다\n",
      "Example in English: Brush up on Spanish before the trip.\n",
      "Example in Korean: 여행 전에 스페인어를 복습하다.\n",
      "\n",
      "Phrasal Verb: Call off\n",
      "Meaning: 취소하다\n",
      "Example in English: Call off the picnic due to rain.\n",
      "Example in Korean: 비 때문에 소풍을 취소하다.\n",
      "\n",
      "Let's start the quiz for the last 10 phrasal verbs you learned.\n",
      "\n",
      "The drama club will _____ a famous play at school.\n"
     ]
    },
    {
     "name": "stdin",
     "output_type": "stream",
     "text": [
      "Your answer:  act out\n"
     ]
    },
    {
     "name": "stdout",
     "output_type": "stream",
     "text": [
      "Correct!\n",
      "\n",
      "Something doesn’t _____ about his explanation.\n"
     ]
    },
    {
     "name": "stdin",
     "output_type": "stream",
     "text": [
      "Your answer:  add up\n"
     ]
    },
    {
     "name": "stdout",
     "output_type": "stream",
     "text": [
      "Correct!\n",
      "\n",
      "If you're lost, you should _____ for directions.\n"
     ]
    },
    {
     "name": "stdin",
     "output_type": "stream",
     "text": [
      "Your answer:  ask around\n"
     ]
    },
    {
     "name": "stdout",
     "output_type": "stream",
     "text": [
      "Correct!\n",
      "\n",
      "He finally got the courage to _____ his crush.\n"
     ]
    },
    {
     "name": "stdin",
     "output_type": "stream",
     "text": [
      "Your answer:  break down\n"
     ]
    },
    {
     "name": "stdout",
     "output_type": "stream",
     "text": [
      "Wrong! The correct answer was: ask out\n",
      "\n",
      "\n",
      "Can you _____ your files regularly?\n"
     ]
    },
    {
     "name": "stdin",
     "output_type": "stream",
     "text": [
      "Your answer:  back up\n"
     ]
    },
    {
     "name": "stdout",
     "output_type": "stream",
     "text": [
      "Correct!\n",
      "\n",
      "The balloon will _____ if you keep inflating it.\n"
     ]
    },
    {
     "name": "stdin",
     "output_type": "stream",
     "text": [
      "Your answer:  blow up\n"
     ]
    },
    {
     "name": "stdout",
     "output_type": "stream",
     "text": [
      "Correct!\n",
      "\n",
      "The negotiations tend to _____ due to lack of trust.\n"
     ]
    },
    {
     "name": "stdin",
     "output_type": "stream",
     "text": [
      "Your answer:  break down\n"
     ]
    },
    {
     "name": "stdout",
     "output_type": "stream",
     "text": [
      "Correct!\n",
      "\n",
      "I didn't want to _____ his past mistakes.\n"
     ]
    },
    {
     "name": "stdin",
     "output_type": "stream",
     "text": [
      "Your answer:  bring up\n"
     ]
    },
    {
     "name": "stdout",
     "output_type": "stream",
     "text": [
      "Correct!\n",
      "\n",
      "I need to _____ my French skills before the business trip.\n"
     ]
    },
    {
     "name": "stdin",
     "output_type": "stream",
     "text": [
      "Your answer:  brush upon\n"
     ]
    },
    {
     "name": "stdout",
     "output_type": "stream",
     "text": [
      "Wrong! The correct answer was: brush up on\n",
      "\n",
      "\n",
      "The meeting was _____ at the last minute.\n"
     ]
    },
    {
     "name": "stdin",
     "output_type": "stream",
     "text": [
      "Your answer:  called off\n"
     ]
    },
    {
     "name": "stdout",
     "output_type": "stream",
     "text": [
      "Wrong! The correct answer was: call off\n",
      "\n",
      "\n",
      "Your score: 7/10\n"
     ]
    }
   ],
   "source": [
    "import pandas as pd\n",
    "\n",
    "# Load the Excel file\n",
    "df = pd.read_excel('phrasal_verbs_list63.xlsx')\n",
    "\n",
    "def quiz(df):\n",
    "    # Display each phrasal verb and after every 10th verb, provide a quiz\n",
    "    for i in range(len(df)):\n",
    "        row = df.iloc[i]\n",
    "        print(f\"\\nPhrasal Verb: {row['Phrasal Verb']}\")\n",
    "        print(f\"Meaning: {row['Meaning']}\")\n",
    "        print(f\"Example in English: {row['Example in English']}\")\n",
    "        print(f\"Example in Korean: {row['Example in Korean']}\")\n",
    "\n",
    "        # After every 10 verbs, provide a quiz for those 10 verbs\n",
    "        if (i + 1) % 10 == 0:\n",
    "            print(\"\\nLet's start the quiz for the last 10 phrasal verbs you learned.\")\n",
    "            correct = 0\n",
    "            for j in range(i - 9, i + 1):\n",
    "                quiz_row = df.iloc[j]\n",
    "                print(f\"\\n{quiz_row['Quiz Question']}\")\n",
    "                answer = input(\"Your answer: \").strip().lower()\n",
    "                if answer == quiz_row['Answer'].strip().lower():\n",
    "                    correct += 1\n",
    "                    print(\"Correct!\")\n",
    "                else:\n",
    "                    print(f\"Wrong! The correct answer was: {quiz_row['Answer']}\")\n",
    "            print(f\"\\nYour score: {correct}/10\")\n",
    "            input(\"Press Enter to continue learning the next set of phrasal verbs...\\n\")\n",
    "\n",
    "# Start the quiz\n",
    "quiz(df)\n"
   ]
  },
  {
   "cell_type": "code",
   "execution_count": null,
   "id": "267578e6-d0b2-4713-9161-c15f5e266319",
   "metadata": {},
   "outputs": [
    {
     "name": "stdout",
     "output_type": "stream",
     "text": [
      "\n",
      "Phrasal Verb: Act out\n",
      "Meaning: 무엇을 연기하다\n",
      "Example in English: The students acted out a scene from Romeo and Juliet.\n",
      "Example in Korean: 학생들이 로미오와 줄리엣의 한 장면을 연기했다.\n",
      "\n",
      "Phrasal Verb: Add up\n",
      "Meaning: 말이 되다 이치에 맞다\n",
      "Example in English:  Her story just doesn’t add up.\n",
      "Example in Korean: 그녀의 이야기는 말이 안 된다.,\n",
      "\n",
      "Phrasal Verb: Ask around\n",
      "Meaning: 여러 사람에게 물어보다\n",
      "Example in English: She asked around to find the lost keys.\n",
      "Example in Korean: 그녀는 잃어버린 열쇠를 찾기 위해 여러 사람에게 물어보았다.\n",
      "\n",
      "Phrasal Verb: Ask out\n",
      "Meaning: 데이트 신청하다\n",
      "Example in English: He asked her out.\n",
      "Example in Korean: 그는 그녀에게 데이트 신청을 했다.\n",
      "\n",
      "Phrasal Verb: Back up\n",
      "Meaning: 후진하다 지지하다\n",
      "Example in English: I had to back up the car.\n",
      "Example in Korean: 나는 차를 후진해야 했다.\n",
      "\n",
      "Phrasal Verb: Blow up\n",
      "Meaning: 폭발하다 화내다\n",
      "Example in English: He blew up when he found out.\n",
      "Example in Korean: 그가 알게 되었을 때 그는 화를 냈다.\n",
      "\n",
      "Phrasal Verb: Break down\n",
      "Meaning: 고장나다\n",
      "Example in English: The car broke down on the highway.\n",
      "Example in Korean: 그 차는 고속도로에서 고장 났다.,\n",
      "\n",
      "Phrasal Verb: Bring up\n",
      "Meaning: 언급하다\n",
      "Example in English: She brought up budget cuts.\n",
      "Example in Korean: 그녀는 예산 삭감에 대해 언급했다.\n",
      "\n",
      "Phrasal Verb: Brush up on\n",
      "Meaning: 복습하다 연습하다\n",
      "Example in English: Brush up on Spanish before the trip.\n",
      "Example in Korean: 여행 전에 스페인어를 복습하다.\n",
      "\n",
      "Phrasal Verb: Call off\n",
      "Meaning: 취소하다\n",
      "Example in English: Call off the picnic due to rain.\n",
      "Example in Korean: 비 때문에 소풍을 취소하다.\n",
      "\n",
      "Let's start the quiz for the last 10 phrasal verbs you learned.\n",
      "\n",
      "The drama club will _____ a famous play at school.\n"
     ]
    },
    {
     "name": "stdin",
     "output_type": "stream",
     "text": [
      "Your answer:  act out\n"
     ]
    },
    {
     "name": "stdout",
     "output_type": "stream",
     "text": [
      "Correct!\n",
      "\n",
      "Something doesn’t _____ about his explanation.\n"
     ]
    },
    {
     "name": "stdin",
     "output_type": "stream",
     "text": [
      "Your answer:  add up\n"
     ]
    },
    {
     "name": "stdout",
     "output_type": "stream",
     "text": [
      "Correct!\n",
      "\n",
      "If you're lost, you should _____ for directions.\n"
     ]
    },
    {
     "name": "stdin",
     "output_type": "stream",
     "text": [
      "Your answer:  ask around\n"
     ]
    },
    {
     "name": "stdout",
     "output_type": "stream",
     "text": [
      "Correct!\n",
      "\n",
      "He finally got the courage to _____ his crush.\n"
     ]
    },
    {
     "name": "stdin",
     "output_type": "stream",
     "text": [
      "Your answer:  break down\n"
     ]
    },
    {
     "name": "stdout",
     "output_type": "stream",
     "text": [
      "Wrong! The correct answer was: ask out\n",
      "\n",
      "\n",
      "Can you _____ your files regularly?\n"
     ]
    },
    {
     "name": "stdin",
     "output_type": "stream",
     "text": [
      "Your answer:  back up\n"
     ]
    },
    {
     "name": "stdout",
     "output_type": "stream",
     "text": [
      "Correct!\n",
      "\n",
      "The balloon will _____ if you keep inflating it.\n"
     ]
    },
    {
     "name": "stdin",
     "output_type": "stream",
     "text": [
      "Your answer:  blow up\n"
     ]
    },
    {
     "name": "stdout",
     "output_type": "stream",
     "text": [
      "Correct!\n",
      "\n",
      "The negotiations tend to _____ due to lack of trust.\n"
     ]
    },
    {
     "name": "stdin",
     "output_type": "stream",
     "text": [
      "Your answer:  break down\n"
     ]
    },
    {
     "name": "stdout",
     "output_type": "stream",
     "text": [
      "Correct!\n",
      "\n",
      "I didn't want to _____ his past mistakes.\n"
     ]
    },
    {
     "name": "stdin",
     "output_type": "stream",
     "text": [
      "Your answer:  bring up\n"
     ]
    },
    {
     "name": "stdout",
     "output_type": "stream",
     "text": [
      "Correct!\n",
      "\n",
      "I need to _____ my French skills before the business trip.\n"
     ]
    },
    {
     "name": "stdin",
     "output_type": "stream",
     "text": [
      "Your answer:  brush upon\n"
     ]
    },
    {
     "name": "stdout",
     "output_type": "stream",
     "text": [
      "Wrong! The correct answer was: brush up on\n",
      "\n",
      "\n",
      "The meeting was _____ at the last minute.\n"
     ]
    },
    {
     "name": "stdin",
     "output_type": "stream",
     "text": [
      "Your answer:  called off\n"
     ]
    },
    {
     "name": "stdout",
     "output_type": "stream",
     "text": [
      "Wrong! The correct answer was: call off\n",
      "\n",
      "\n",
      "Your score: 7/10\n"
     ]
    }
   ],
   "source": [
    "import pandas as pd\n",
    "\n",
    "# Load the Excel file\n",
    "df = pd.read_excel('phrasal_verbs_list63.xlsx')\n",
    "\n",
    "def quiz(df):\n",
    "    # Display each phrasal verb and after every 10th verb, provide a quiz\n",
    "    for i in range(len(df)):\n",
    "        row = df.iloc[i]\n",
    "        print(f\"\\nPhrasal Verb: {row['Phrasal Verb']}\")\n",
    "        print(f\"Meaning: {row['Meaning']}\")\n",
    "        print(f\"Example in English: {row['Example in English']}\")\n",
    "        print(f\"Example in Korean: {row['Example in Korean']}\")\n",
    "\n",
    "        # After every 10 verbs, provide a quiz for those 10 verbs\n",
    "        if (i + 1) % 10 == 0:\n",
    "            print(\"\\nLet's start the quiz for the last 10 phrasal verbs you learned.\")\n",
    "            correct = 0\n",
    "            for j in range(i - 9, i + 1):\n",
    "                quiz_row = df.iloc[j]\n",
    "                print(f\"\\n{quiz_row['Quiz Question']}\")\n",
    "                answer = input(\"Your answer: \").strip().lower()\n",
    "                if answer == quiz_row['Answer'].strip().lower():\n",
    "                    correct += 1\n",
    "                    print(\"Correct!\")\n",
    "                else:\n",
    "                    print(f\"Wrong! The correct answer was: {quiz_row['Answer']}\")\n",
    "            print(f\"\\nYour score: {correct}/10\")\n",
    "            input(\"Press Enter to continue learning the next set of phrasal verbs...\\n\")\n",
    "\n",
    "# Start the quiz\n",
    "quiz(df)\n"
   ]
  },
  {
   "cell_type": "code",
   "execution_count": null,
   "id": "52b4258b-611f-43b8-8816-e9e3f0be224d",
   "metadata": {},
   "outputs": [],
   "source": []
  }
 ],
 "metadata": {
  "kernelspec": {
   "display_name": "anaconda-panel-2023.05-py310",
   "language": "python",
   "name": "conda-env-anaconda-panel-2023.05-py310-py"
  },
  "language_info": {
   "codemirror_mode": {
    "name": "ipython",
    "version": 3
   },
   "file_extension": ".py",
   "mimetype": "text/x-python",
   "name": "python",
   "nbconvert_exporter": "python",
   "pygments_lexer": "ipython3",
   "version": "3.11.5"
  }
 },
 "nbformat": 4,
 "nbformat_minor": 5
}
